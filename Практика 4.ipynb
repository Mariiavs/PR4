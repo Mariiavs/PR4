{
 "cells": [
  {
   "cell_type": "markdown",
   "id": "6ca625b1",
   "metadata": {},
   "source": [
    "<h2>Практика 4</h2>\n",
    "<p>Операционные системы</p>\n",
    "<a href=\"https://hackmd.io/@0x41/OS_Lab_4\" style=\"font-size:12px\">https://hackmd.io/@0x41/OS_Lab_4</a>"
   ]
  },
  {
   "cell_type": "markdown",
   "id": "151fa8dc",
   "metadata": {},
   "source": [
    "<h3>Задание</h3>\n",
    "<p>Требования к языкам программирования: JAVA, C++, python, assembler</p>\n",
    "<h4>Разработать программу на нескольких языках, реализующую следующую математическую функцию в цикле и сравнить производительность в зависимости от языка.</h4>"
   ]
  },
  {
   "cell_type": "markdown",
   "id": "60086c5e",
   "metadata": {},
   "source": [
    "<img src=\"https://i.imgur.com/jfqXcMU.png\"/>"
   ]
  },
  {
   "cell_type": "markdown",
   "id": "69bccf33",
   "metadata": {},
   "source": [
    "<h4>python:</h4>"
   ]
  },
  {
   "cell_type": "code",
   "execution_count": 2,
   "id": "806fe295",
   "metadata": {},
   "outputs": [
    {
     "name": "stdout",
     "output_type": "stream",
     "text": [
      "1500000000\n",
      "1500000000\n",
      "1500000000\n",
      "1500000000\n",
      "1500000000\n",
      "1500000000\n",
      "1500000000\n",
      "1500000000\n",
      "27.8 s ± 1.22 s per loop (mean ± std. dev. of 7 runs, 1 loop each)\n"
     ]
    }
   ],
   "source": [
    "def fnc(n):\n",
    "    b = 3\n",
    "    c = 3\n",
    "    s = 0\n",
    "    for j in range(1,n+1):\n",
    "        a = 0\n",
    "        for i in range(1,100000001):\n",
    "            a += b*2 + c - j\n",
    "        s+=a\n",
    "    print(s)\n",
    "    return s\n",
    "\n",
    "%timeit fnc(2)"
   ]
  },
  {
   "cell_type": "markdown",
   "id": "bed08318",
   "metadata": {},
   "source": [
    "<h4>c++:</h4>"
   ]
  },
  {
   "cell_type": "markdown",
   "id": "afeb75f0",
   "metadata": {},
   "source": [
    "<img src=\"c++.png\"/>"
   ]
  },
  {
   "cell_type": "markdown",
   "id": "379426a6",
   "metadata": {},
   "source": [
    "<h4>assembler:</h4>"
   ]
  },
  {
   "cell_type": "markdown",
   "id": "2c60fd37",
   "metadata": {},
   "source": [
    "<img src=\"asm.png\"/>"
   ]
  },
  {
   "cell_type": "markdown",
   "id": "f10705cb",
   "metadata": {},
   "source": [
    "<h4>java:</h4>"
   ]
  },
  {
   "cell_type": "markdown",
   "id": "9903136b",
   "metadata": {},
   "source": [
    "<img src=\"java.png\"/>"
   ]
  },
  {
   "cell_type": "code",
   "execution_count": null,
   "id": "95662a54",
   "metadata": {},
   "outputs": [],
   "source": []
  }
 ],
 "metadata": {
  "kernelspec": {
   "display_name": "Python 3 (ipykernel)",
   "language": "python",
   "name": "python3"
  },
  "language_info": {
   "codemirror_mode": {
    "name": "ipython",
    "version": 3
   },
   "file_extension": ".py",
   "mimetype": "text/x-python",
   "name": "python",
   "nbconvert_exporter": "python",
   "pygments_lexer": "ipython3",
   "version": "3.9.7"
  }
 },
 "nbformat": 4,
 "nbformat_minor": 5
}
